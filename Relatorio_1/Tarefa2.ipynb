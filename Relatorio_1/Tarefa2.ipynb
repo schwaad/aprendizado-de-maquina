{
  "nbformat": 4,
  "nbformat_minor": 0,
  "metadata": {
    "colab": {
      "provenance": []
    },
    "kernelspec": {
      "name": "python3",
      "display_name": "Python 3"
    },
    "language_info": {
      "name": "python"
    }
  },
  "cells": [
    {
      "cell_type": "markdown",
      "source": [
        "# Tarefa 2: Algoritmo Naive Bayes\n",
        "### Aluno: José Ivo Schwade Araújo"
      ],
      "metadata": {
        "id": "vBMXQYg4EpAK"
      }
    },
    {
      "cell_type": "markdown",
      "source": [
        "### 0. Importando as bibliotecas necessárias e carregando a base de dados"
      ],
      "metadata": {
        "id": "38tI68adFDAJ"
      }
    },
    {
      "cell_type": "code",
      "source": [
        "# Importação das bibliotecas necessárias\n",
        "import numpy as np                                            # Biblioteca para operações numéricas\n",
        "import pandas as pd                                           # Biblioteca para manipulação de dados em DataFrames\n",
        "from sklearn.model_selection import train_test_split          # Função para dividir os dados em treino e teste\n",
        "from sklearn.feature_extraction.text import CountVectorizer   # Transforma texto em representações vetoriais\n",
        "from sklearn.naive_bayes import BernoulliNB                   # Classificador Naive Bayes com distribuição de Bernoulli\n",
        "from sklearn.neighbors import KNeighborsClassifier            # Classificador k-NN\n",
        "from sklearn.metrics import accuracy_score, confusion_matrix, classification_report  # Métricas de avaliação\n",
        "from sklearn.preprocessing import StandardScaler\n",
        "from sklearn.datasets import load_digits\n",
        "import matplotlib.pyplot as plt                               # Biblioteca de visualização gráfica\n",
        "import seaborn as sns                                         # Biblioteca de visualização baseada em matplotlib, com estilo melhorado\n",
        "# Para figuras geradas pelo matplotlib serem exibidas diretamente no notebook\n",
        "%matplotlib inline"
      ],
      "metadata": {
        "id": "czbmfHsBFFnF"
      },
      "execution_count": 56,
      "outputs": []
    },
    {
      "cell_type": "code",
      "source": [
        "# Carregamento do dataset de spam\n",
        "url = \"https://raw.githubusercontent.com/justmarkham/pycon-2016-tutorial/master/data/sms.tsv\"\n",
        "df = pd.read_csv(url, sep='\\t', header=None, names=['label', 'message'])\n",
        "\n",
        "# Visualização dos dados\n",
        "print(\"Visualização das primeiras linhas do dataset:\")\n",
        "display(df.head(11))"
      ],
      "metadata": {
        "colab": {
          "base_uri": "https://localhost:8080/",
          "height": 412
        },
        "id": "R2FzXiKSF4Sm",
        "outputId": "1cd10ab3-4645-45c5-f35e-f24e3a90b3c1"
      },
      "execution_count": 47,
      "outputs": [
        {
          "output_type": "stream",
          "name": "stdout",
          "text": [
            "Visualização das primeiras linhas do dataset:\n"
          ]
        },
        {
          "output_type": "display_data",
          "data": {
            "text/plain": [
              "   label                                            message\n",
              "0    ham  Go until jurong point, crazy.. Available only ...\n",
              "1    ham                      Ok lar... Joking wif u oni...\n",
              "2   spam  Free entry in 2 a wkly comp to win FA Cup fina...\n",
              "3    ham  U dun say so early hor... U c already then say...\n",
              "4    ham  Nah I don't think he goes to usf, he lives aro...\n",
              "5   spam  FreeMsg Hey there darling it's been 3 week's n...\n",
              "6    ham  Even my brother is not like to speak with me. ...\n",
              "7    ham  As per your request 'Melle Melle (Oru Minnamin...\n",
              "8   spam  WINNER!! As a valued network customer you have...\n",
              "9   spam  Had your mobile 11 months or more? U R entitle...\n",
              "10   ham  I'm gonna be home soon and i don't want to tal..."
            ],
            "text/html": [
              "\n",
              "  <div id=\"df-af9f0c33-008a-4190-8841-de16533fb35f\" class=\"colab-df-container\">\n",
              "    <div>\n",
              "<style scoped>\n",
              "    .dataframe tbody tr th:only-of-type {\n",
              "        vertical-align: middle;\n",
              "    }\n",
              "\n",
              "    .dataframe tbody tr th {\n",
              "        vertical-align: top;\n",
              "    }\n",
              "\n",
              "    .dataframe thead th {\n",
              "        text-align: right;\n",
              "    }\n",
              "</style>\n",
              "<table border=\"1\" class=\"dataframe\">\n",
              "  <thead>\n",
              "    <tr style=\"text-align: right;\">\n",
              "      <th></th>\n",
              "      <th>label</th>\n",
              "      <th>message</th>\n",
              "    </tr>\n",
              "  </thead>\n",
              "  <tbody>\n",
              "    <tr>\n",
              "      <th>0</th>\n",
              "      <td>ham</td>\n",
              "      <td>Go until jurong point, crazy.. Available only ...</td>\n",
              "    </tr>\n",
              "    <tr>\n",
              "      <th>1</th>\n",
              "      <td>ham</td>\n",
              "      <td>Ok lar... Joking wif u oni...</td>\n",
              "    </tr>\n",
              "    <tr>\n",
              "      <th>2</th>\n",
              "      <td>spam</td>\n",
              "      <td>Free entry in 2 a wkly comp to win FA Cup fina...</td>\n",
              "    </tr>\n",
              "    <tr>\n",
              "      <th>3</th>\n",
              "      <td>ham</td>\n",
              "      <td>U dun say so early hor... U c already then say...</td>\n",
              "    </tr>\n",
              "    <tr>\n",
              "      <th>4</th>\n",
              "      <td>ham</td>\n",
              "      <td>Nah I don't think he goes to usf, he lives aro...</td>\n",
              "    </tr>\n",
              "    <tr>\n",
              "      <th>5</th>\n",
              "      <td>spam</td>\n",
              "      <td>FreeMsg Hey there darling it's been 3 week's n...</td>\n",
              "    </tr>\n",
              "    <tr>\n",
              "      <th>6</th>\n",
              "      <td>ham</td>\n",
              "      <td>Even my brother is not like to speak with me. ...</td>\n",
              "    </tr>\n",
              "    <tr>\n",
              "      <th>7</th>\n",
              "      <td>ham</td>\n",
              "      <td>As per your request 'Melle Melle (Oru Minnamin...</td>\n",
              "    </tr>\n",
              "    <tr>\n",
              "      <th>8</th>\n",
              "      <td>spam</td>\n",
              "      <td>WINNER!! As a valued network customer you have...</td>\n",
              "    </tr>\n",
              "    <tr>\n",
              "      <th>9</th>\n",
              "      <td>spam</td>\n",
              "      <td>Had your mobile 11 months or more? U R entitle...</td>\n",
              "    </tr>\n",
              "    <tr>\n",
              "      <th>10</th>\n",
              "      <td>ham</td>\n",
              "      <td>I'm gonna be home soon and i don't want to tal...</td>\n",
              "    </tr>\n",
              "  </tbody>\n",
              "</table>\n",
              "</div>\n",
              "    <div class=\"colab-df-buttons\">\n",
              "\n",
              "  <div class=\"colab-df-container\">\n",
              "    <button class=\"colab-df-convert\" onclick=\"convertToInteractive('df-af9f0c33-008a-4190-8841-de16533fb35f')\"\n",
              "            title=\"Convert this dataframe to an interactive table.\"\n",
              "            style=\"display:none;\">\n",
              "\n",
              "  <svg xmlns=\"http://www.w3.org/2000/svg\" height=\"24px\" viewBox=\"0 -960 960 960\">\n",
              "    <path d=\"M120-120v-720h720v720H120Zm60-500h600v-160H180v160Zm220 220h160v-160H400v160Zm0 220h160v-160H400v160ZM180-400h160v-160H180v160Zm440 0h160v-160H620v160ZM180-180h160v-160H180v160Zm440 0h160v-160H620v160Z\"/>\n",
              "  </svg>\n",
              "    </button>\n",
              "\n",
              "  <style>\n",
              "    .colab-df-container {\n",
              "      display:flex;\n",
              "      gap: 12px;\n",
              "    }\n",
              "\n",
              "    .colab-df-convert {\n",
              "      background-color: #E8F0FE;\n",
              "      border: none;\n",
              "      border-radius: 50%;\n",
              "      cursor: pointer;\n",
              "      display: none;\n",
              "      fill: #1967D2;\n",
              "      height: 32px;\n",
              "      padding: 0 0 0 0;\n",
              "      width: 32px;\n",
              "    }\n",
              "\n",
              "    .colab-df-convert:hover {\n",
              "      background-color: #E2EBFA;\n",
              "      box-shadow: 0px 1px 2px rgba(60, 64, 67, 0.3), 0px 1px 3px 1px rgba(60, 64, 67, 0.15);\n",
              "      fill: #174EA6;\n",
              "    }\n",
              "\n",
              "    .colab-df-buttons div {\n",
              "      margin-bottom: 4px;\n",
              "    }\n",
              "\n",
              "    [theme=dark] .colab-df-convert {\n",
              "      background-color: #3B4455;\n",
              "      fill: #D2E3FC;\n",
              "    }\n",
              "\n",
              "    [theme=dark] .colab-df-convert:hover {\n",
              "      background-color: #434B5C;\n",
              "      box-shadow: 0px 1px 3px 1px rgba(0, 0, 0, 0.15);\n",
              "      filter: drop-shadow(0px 1px 2px rgba(0, 0, 0, 0.3));\n",
              "      fill: #FFFFFF;\n",
              "    }\n",
              "  </style>\n",
              "\n",
              "    <script>\n",
              "      const buttonEl =\n",
              "        document.querySelector('#df-af9f0c33-008a-4190-8841-de16533fb35f button.colab-df-convert');\n",
              "      buttonEl.style.display =\n",
              "        google.colab.kernel.accessAllowed ? 'block' : 'none';\n",
              "\n",
              "      async function convertToInteractive(key) {\n",
              "        const element = document.querySelector('#df-af9f0c33-008a-4190-8841-de16533fb35f');\n",
              "        const dataTable =\n",
              "          await google.colab.kernel.invokeFunction('convertToInteractive',\n",
              "                                                    [key], {});\n",
              "        if (!dataTable) return;\n",
              "\n",
              "        const docLinkHtml = 'Like what you see? Visit the ' +\n",
              "          '<a target=\"_blank\" href=https://colab.research.google.com/notebooks/data_table.ipynb>data table notebook</a>'\n",
              "          + ' to learn more about interactive tables.';\n",
              "        element.innerHTML = '';\n",
              "        dataTable['output_type'] = 'display_data';\n",
              "        await google.colab.output.renderOutput(dataTable, element);\n",
              "        const docLink = document.createElement('div');\n",
              "        docLink.innerHTML = docLinkHtml;\n",
              "        element.appendChild(docLink);\n",
              "      }\n",
              "    </script>\n",
              "  </div>\n",
              "\n",
              "\n",
              "    <div id=\"df-664544f2-b879-461a-a76c-f1d96ef8e9a4\">\n",
              "      <button class=\"colab-df-quickchart\" onclick=\"quickchart('df-664544f2-b879-461a-a76c-f1d96ef8e9a4')\"\n",
              "                title=\"Suggest charts\"\n",
              "                style=\"display:none;\">\n",
              "\n",
              "<svg xmlns=\"http://www.w3.org/2000/svg\" height=\"24px\"viewBox=\"0 0 24 24\"\n",
              "     width=\"24px\">\n",
              "    <g>\n",
              "        <path d=\"M19 3H5c-1.1 0-2 .9-2 2v14c0 1.1.9 2 2 2h14c1.1 0 2-.9 2-2V5c0-1.1-.9-2-2-2zM9 17H7v-7h2v7zm4 0h-2V7h2v10zm4 0h-2v-4h2v4z\"/>\n",
              "    </g>\n",
              "</svg>\n",
              "      </button>\n",
              "\n",
              "<style>\n",
              "  .colab-df-quickchart {\n",
              "      --bg-color: #E8F0FE;\n",
              "      --fill-color: #1967D2;\n",
              "      --hover-bg-color: #E2EBFA;\n",
              "      --hover-fill-color: #174EA6;\n",
              "      --disabled-fill-color: #AAA;\n",
              "      --disabled-bg-color: #DDD;\n",
              "  }\n",
              "\n",
              "  [theme=dark] .colab-df-quickchart {\n",
              "      --bg-color: #3B4455;\n",
              "      --fill-color: #D2E3FC;\n",
              "      --hover-bg-color: #434B5C;\n",
              "      --hover-fill-color: #FFFFFF;\n",
              "      --disabled-bg-color: #3B4455;\n",
              "      --disabled-fill-color: #666;\n",
              "  }\n",
              "\n",
              "  .colab-df-quickchart {\n",
              "    background-color: var(--bg-color);\n",
              "    border: none;\n",
              "    border-radius: 50%;\n",
              "    cursor: pointer;\n",
              "    display: none;\n",
              "    fill: var(--fill-color);\n",
              "    height: 32px;\n",
              "    padding: 0;\n",
              "    width: 32px;\n",
              "  }\n",
              "\n",
              "  .colab-df-quickchart:hover {\n",
              "    background-color: var(--hover-bg-color);\n",
              "    box-shadow: 0 1px 2px rgba(60, 64, 67, 0.3), 0 1px 3px 1px rgba(60, 64, 67, 0.15);\n",
              "    fill: var(--button-hover-fill-color);\n",
              "  }\n",
              "\n",
              "  .colab-df-quickchart-complete:disabled,\n",
              "  .colab-df-quickchart-complete:disabled:hover {\n",
              "    background-color: var(--disabled-bg-color);\n",
              "    fill: var(--disabled-fill-color);\n",
              "    box-shadow: none;\n",
              "  }\n",
              "\n",
              "  .colab-df-spinner {\n",
              "    border: 2px solid var(--fill-color);\n",
              "    border-color: transparent;\n",
              "    border-bottom-color: var(--fill-color);\n",
              "    animation:\n",
              "      spin 1s steps(1) infinite;\n",
              "  }\n",
              "\n",
              "  @keyframes spin {\n",
              "    0% {\n",
              "      border-color: transparent;\n",
              "      border-bottom-color: var(--fill-color);\n",
              "      border-left-color: var(--fill-color);\n",
              "    }\n",
              "    20% {\n",
              "      border-color: transparent;\n",
              "      border-left-color: var(--fill-color);\n",
              "      border-top-color: var(--fill-color);\n",
              "    }\n",
              "    30% {\n",
              "      border-color: transparent;\n",
              "      border-left-color: var(--fill-color);\n",
              "      border-top-color: var(--fill-color);\n",
              "      border-right-color: var(--fill-color);\n",
              "    }\n",
              "    40% {\n",
              "      border-color: transparent;\n",
              "      border-right-color: var(--fill-color);\n",
              "      border-top-color: var(--fill-color);\n",
              "    }\n",
              "    60% {\n",
              "      border-color: transparent;\n",
              "      border-right-color: var(--fill-color);\n",
              "    }\n",
              "    80% {\n",
              "      border-color: transparent;\n",
              "      border-right-color: var(--fill-color);\n",
              "      border-bottom-color: var(--fill-color);\n",
              "    }\n",
              "    90% {\n",
              "      border-color: transparent;\n",
              "      border-bottom-color: var(--fill-color);\n",
              "    }\n",
              "  }\n",
              "</style>\n",
              "\n",
              "      <script>\n",
              "        async function quickchart(key) {\n",
              "          const quickchartButtonEl =\n",
              "            document.querySelector('#' + key + ' button');\n",
              "          quickchartButtonEl.disabled = true;  // To prevent multiple clicks.\n",
              "          quickchartButtonEl.classList.add('colab-df-spinner');\n",
              "          try {\n",
              "            const charts = await google.colab.kernel.invokeFunction(\n",
              "                'suggestCharts', [key], {});\n",
              "          } catch (error) {\n",
              "            console.error('Error during call to suggestCharts:', error);\n",
              "          }\n",
              "          quickchartButtonEl.classList.remove('colab-df-spinner');\n",
              "          quickchartButtonEl.classList.add('colab-df-quickchart-complete');\n",
              "        }\n",
              "        (() => {\n",
              "          let quickchartButtonEl =\n",
              "            document.querySelector('#df-664544f2-b879-461a-a76c-f1d96ef8e9a4 button');\n",
              "          quickchartButtonEl.style.display =\n",
              "            google.colab.kernel.accessAllowed ? 'block' : 'none';\n",
              "        })();\n",
              "      </script>\n",
              "    </div>\n",
              "\n",
              "    </div>\n",
              "  </div>\n"
            ],
            "application/vnd.google.colaboratory.intrinsic+json": {
              "type": "dataframe",
              "summary": "{\n  \"name\": \"display(df\",\n  \"rows\": 11,\n  \"fields\": [\n    {\n      \"column\": \"label\",\n      \"properties\": {\n        \"dtype\": \"category\",\n        \"num_unique_values\": 2,\n        \"samples\": [\n          \"spam\",\n          \"ham\"\n        ],\n        \"semantic_type\": \"\",\n        \"description\": \"\"\n      }\n    },\n    {\n      \"column\": \"message\",\n      \"properties\": {\n        \"dtype\": \"string\",\n        \"num_unique_values\": 11,\n        \"samples\": [\n          \"FreeMsg Hey there darling it's been 3 week's now and no word back! I'd like some fun you up for it still? Tb ok! XxX std chgs to send, \\u00a31.50 to rcv\",\n          \"Go until jurong point, crazy.. Available only in bugis n great world la e buffet... Cine there got amore wat...\"\n        ],\n        \"semantic_type\": \"\",\n        \"description\": \"\"\n      }\n    }\n  ]\n}"
            }
          },
          "metadata": {}
        }
      ]
    },
    {
      "cell_type": "markdown",
      "source": [
        "### 1. Testando outras métricas do KNN na base de dados SMS Spam Collection"
      ],
      "metadata": {
        "id": "UHDI9swhEvq7"
      }
    },
    {
      "cell_type": "markdown",
      "source": [
        "#### Pré-processamento dos dados"
      ],
      "metadata": {
        "id": "CJuE6joVFvhm"
      }
    },
    {
      "cell_type": "code",
      "source": [
        "# Conversão das labels para valores binários\n",
        "df['label'] = df['label'].map({'ham': 0, 'spam': 1})\n",
        "\n",
        "# Divisão dos dados em treino e teste\n",
        "X_train_spam, X_test_spam, y_train_spam, y_test_spam = train_test_split(  # Divide dados em treino (70%) e teste (30%)\n",
        "    df['message'],  # Variável independente: textos das mensagens\n",
        "    df['label'],    # Variável dependente: rótulo binário\n",
        "    test_size=0.3,  # Proporção de teste: 30%\n",
        "    random_state=42 # Semente para reprodutibilidade dos resultados\n",
        ")\n",
        "\n",
        "# Transformação dos textos em vetores de contagem de palavras (binário)\n",
        "vectorizer = CountVectorizer(binary=True)         # Inicializa o vetor com contagem binária (presença/ausência da palavra)\n",
        "X_train_vec = vectorizer.fit_transform(X_train_spam)   # Ajusta e transforma os dados de treino em vetores binários\n",
        "X_test_vec = vectorizer.transform(X_test_spam)         # Transforma os dados de teste com o mesmo vocabulário aprendido no treino"
      ],
      "metadata": {
        "id": "GcTJyp38GStu"
      },
      "execution_count": 48,
      "outputs": []
    },
    {
      "cell_type": "markdown",
      "source": [
        "Normalização dos dados para o KNN"
      ],
      "metadata": {
        "id": "rmIaOIf9Gtpd"
      }
    },
    {
      "cell_type": "code",
      "source": [
        "scaler = StandardScaler(with_mean=False)\n",
        "X_train_scaled = scaler.fit_transform(X_train_vec)\n",
        "X_test_scaled = scaler.transform(X_test_vec)"
      ],
      "metadata": {
        "id": "gUbslJymGvsQ"
      },
      "execution_count": 49,
      "outputs": []
    },
    {
      "cell_type": "markdown",
      "source": [
        "Testando, finalmente, outras métricas para o KNN"
      ],
      "metadata": {
        "id": "woE_AjyNGbHl"
      }
    },
    {
      "cell_type": "code",
      "execution_count": 50,
      "metadata": {
        "colab": {
          "base_uri": "https://localhost:8080/"
        },
        "id": "9QNvs6cyD5_Q",
        "outputId": "9519f625-66be-4737-8dbd-3e959784bab3"
      },
      "outputs": [
        {
          "output_type": "stream",
          "name": "stdout",
          "text": [
            "    distance  accuracy\n",
            "2     cosine  0.955742\n",
            "1  cityblock  0.895933\n",
            "0  euclidean  0.879785\n"
          ]
        }
      ],
      "source": [
        "resultadosKNN = []\n",
        "# Métrica Cosine sendo testada no lugar da Chebyshev pois estamos tratando dados esparsos.\n",
        "distances = ['euclidean', 'cityblock', 'cosine']\n",
        "for distance in distances:\n",
        "  KNN = KNeighborsClassifier(metric=distance)\n",
        "  KNN.fit(X_train_scaled, y_train_spam)\n",
        "  y_pred = KNN.predict(X_test_scaled)\n",
        "  accuracy = accuracy_score(y_test_spam, y_pred)\n",
        "  resultadosKNN.append({\n",
        "      'distance' : distance,\n",
        "      'accuracy' : accuracy\n",
        "  })\n",
        "\n",
        "df_resultadosKNN = pd.DataFrame(resultadosKNN)\n",
        "print(df_resultadosKNN.sort_values(by='accuracy', ascending=False))\n"
      ]
    },
    {
      "cell_type": "markdown",
      "source": [
        "Portanto, temos que a melhor métrica para o modelo é a `cosine`, com um total de 0.955742 de precisão."
      ],
      "metadata": {
        "id": "plv-UoaOJsZ9"
      }
    },
    {
      "cell_type": "markdown",
      "source": [
        "### 2.1 Carregando a base `digits` e pré-processando seus dados"
      ],
      "metadata": {
        "id": "V3DWXJcQKkhg"
      }
    },
    {
      "cell_type": "code",
      "source": [
        "from ucimlrepo import fetch_ucirepo\n",
        "from sklearn.model_selection import train_test_split\n",
        "from sklearn.naive_bayes import BernoulliNB\n",
        "from sklearn.metrics import accuracy_score, classification_report, confusion_matrix\n",
        "import numpy as np\n",
        "\n",
        "ORHD = fetch_ucirepo(id=80)\n",
        "\n",
        "features = ORHD.data.features.to_numpy().astype(np.float32) / 16.0\n",
        "features = (features >= 0.5).astype(np.int64)  # binariza para BernoulliNB\n",
        "targets = ORHD.data.targets.to_numpy().astype(np.int64).ravel()\n",
        "\n",
        "X_train_digits, X_test_digits, y_train_digits, y_test_digits = train_test_split(features, targets, test_size=0.3, random_state=42)"
      ],
      "metadata": {
        "id": "t279GwbeGfWW"
      },
      "execution_count": 66,
      "outputs": []
    },
    {
      "cell_type": "markdown",
      "source": [
        "### 2.2 Treinando um modelo Naive Bayes (Bernoulli)"
      ],
      "metadata": {
        "id": "FmugnZfGNHBl"
      }
    },
    {
      "cell_type": "code",
      "source": [
        "model = BernoulliNB()\n",
        "model.fit(X_train_digits, y_train_digits)\n",
        "\n",
        "y_pred_NB = model.predict(X_test_digits)\n",
        "accuracy_NB = accuracy_score(y_test_digits, y_pred_NB)\n",
        "classification_report_NB = classification_report(y_test_digits, y_pred_NB)\n",
        "confusion_matrix_NB = confusion_matrix(y_test_digits, y_pred_NB)\n",
        "\n",
        "print(\"Acurácia:\", accuracy_NB)\n",
        "print(\"Relatório:\\n\", classification_report_NB)\n",
        "print(\"Matriz de Confusão:\\n\", confusion_matrix_NB)"
      ],
      "metadata": {
        "colab": {
          "base_uri": "https://localhost:8080/"
        },
        "id": "mWN1C2dLaGQb",
        "outputId": "0d4c5faa-cdf8-40f4-cff4-71661ea3b848"
      },
      "execution_count": 77,
      "outputs": [
        {
          "output_type": "stream",
          "name": "stdout",
          "text": [
            "Acurácia: 0.8855278766310795\n",
            "Relatório:\n",
            "               precision    recall  f1-score   support\n",
            "\n",
            "           0       0.99      0.97      0.98       170\n",
            "           1       0.83      0.79      0.81       173\n",
            "           2       0.92      0.87      0.90       154\n",
            "           3       0.95      0.83      0.88       173\n",
            "           4       0.94      0.88      0.91       182\n",
            "           5       0.91      0.90      0.90       153\n",
            "           6       0.94      0.98      0.96       168\n",
            "           7       0.86      0.96      0.91       186\n",
            "           8       0.75      0.84      0.79       153\n",
            "           9       0.79      0.83      0.81       174\n",
            "\n",
            "    accuracy                           0.89      1686\n",
            "   macro avg       0.89      0.88      0.89      1686\n",
            "weighted avg       0.89      0.89      0.89      1686\n",
            "\n",
            "Matriz de Confusão:\n",
            " [[165   0   1   0   2   0   1   0   0   1]\n",
            " [  0 137   6   1   0   1   6   0  16   6]\n",
            " [  0   3 134   1   0   0   0   3  10   3]\n",
            " [  0   1   1 143   0   6   0   4   6  12]\n",
            " [  0   1   0   0 161   1   2  10   4   3]\n",
            " [  0   1   1   3   1 138   0   0   0   9]\n",
            " [  1   3   0   0   0   0 164   0   0   0]\n",
            " [  0   4   0   0   3   0   0 179   0   0]\n",
            " [  0  12   2   1   1   3   1   1 128   4]\n",
            " [  0   3   0   2   4   3   0  12   6 144]]\n"
          ]
        }
      ]
    },
    {
      "cell_type": "markdown",
      "source": [
        "### 3.1 Treinando um modelo KNN"
      ],
      "metadata": {
        "id": "MY9NStG0fxTL"
      }
    },
    {
      "cell_type": "code",
      "source": [
        "distances = ['euclidean', 'cityblock', 'cosine']\n",
        "resultadosKNN = []\n",
        "for distance in distances:\n",
        "  KNN = KNeighborsClassifier(metric=distance)\n",
        "  y_pred_KNN = KNN.fit(X_train_digits, y_train_digits).predict(X_test_digits)\n",
        "  accuracy_KNN = accuracy_score(y_test_digits, y_pred_KNN)\n",
        "  classification_report_KNN = classification_report(y_test_digits, y_pred_KNN)\n",
        "  confusion_matrix_KNN = confusion_matrix(y_test_digits, y_pred_KNN)\n",
        "\n",
        "print(\"Acurácia:\", accuracy_KNN)\n",
        "print(\"Relatório:\\n\", classification_report_KNN)\n",
        "print(\"Matriz de Confusão:\\n\", confusion_matrix_KNN)"
      ],
      "metadata": {
        "colab": {
          "base_uri": "https://localhost:8080/"
        },
        "id": "5trcL527fzFZ",
        "outputId": "11a2ff86-6d5d-4f11-be9a-8181c6325776"
      },
      "execution_count": 76,
      "outputs": [
        {
          "output_type": "stream",
          "name": "stdout",
          "text": [
            "Acurácia: 0.9406880189798339\n",
            "Relatório:\n",
            "               precision    recall  f1-score   support\n",
            "\n",
            "           0       0.99      0.99      0.99       170\n",
            "           1       0.83      0.98      0.90       173\n",
            "           2       0.99      0.97      0.98       154\n",
            "           3       0.93      0.88      0.91       173\n",
            "           4       0.99      0.95      0.97       182\n",
            "           5       0.90      0.96      0.93       153\n",
            "           6       0.97      0.99      0.98       168\n",
            "           7       0.97      0.98      0.97       186\n",
            "           8       0.92      0.85      0.88       153\n",
            "           9       0.94      0.85      0.89       174\n",
            "\n",
            "    accuracy                           0.94      1686\n",
            "   macro avg       0.94      0.94      0.94      1686\n",
            "weighted avg       0.94      0.94      0.94      1686\n",
            "\n",
            "Matriz de Confusão:\n",
            " [[169   1   0   0   0   0   0   0   0   0]\n",
            " [  0 169   0   0   0   0   0   0   4   0]\n",
            " [  0   0 149   1   0   0   0   1   2   1]\n",
            " [  0   2   1 153   0   8   0   0   3   6]\n",
            " [  0   2   0   0 173   1   2   2   1   1]\n",
            " [  0   3   0   2   0 147   0   0   0   1]\n",
            " [  1   1   0   0   0   0 166   0   0   0]\n",
            " [  0   4   0   0   0   0   0 182   0   0]\n",
            " [  1  18   0   0   0   1   3   0 130   0]\n",
            " [  0   3   0   9   1   7   1   3   2 148]]\n"
          ]
        }
      ]
    },
    {
      "cell_type": "markdown",
      "source": [
        "### 3.2 Comparando os resultados com o item 2"
      ],
      "metadata": {
        "id": "Hz-mza6hgsV9"
      }
    },
    {
      "cell_type": "code",
      "source": [
        "print(\"Modelo Naive Bayes\")\n",
        "print(\"Acurácia:\", accuracy_NB)\n",
        "print(\"Relatório:\\n\", classification_report_NB)\n",
        "print(\"Modelo KNN\")\n",
        "print(\"Acurácia:\", accuracy_KNN)\n",
        "print(\"Relatório:\\n\", classification_report_KNN)\n",
        "\n",
        "# Plotar as duas matrizes de confusão em heatmap\n",
        "fig, axes = plt.subplots(1, 2, figsize=(12, 5))\n",
        "\n",
        "sns.heatmap(confusion_matrix(y_test_digits, y_pred_NB), annot=True, fmt='d', cmap='Blues', ax=axes[0])\n",
        "axes[0].set_title('Matriz de Confusão - Naive Bayes')\n",
        "axes[0].set\n",
        "\n",
        "sns.heatmap(confusion_matrix(y_test_digits, y_pred_KNN), annot=True, fmt='d', cmap='Blues', ax=axes[1])\n",
        "axes[1].set_title('Matriz de Confusão - KNN')\n",
        "\n",
        "plt.tight_layout()"
      ],
      "metadata": {
        "colab": {
          "base_uri": "https://localhost:8080/",
          "height": 1000
        },
        "id": "3biLPSBKgRnQ",
        "outputId": "23f9d681-d14a-40a7-ec19-fa29138b4af7"
      },
      "execution_count": 79,
      "outputs": [
        {
          "output_type": "stream",
          "name": "stdout",
          "text": [
            "Modelo Naive Bayes\n",
            "Acurácia: 0.8855278766310795\n",
            "Relatório:\n",
            "               precision    recall  f1-score   support\n",
            "\n",
            "           0       0.99      0.97      0.98       170\n",
            "           1       0.83      0.79      0.81       173\n",
            "           2       0.92      0.87      0.90       154\n",
            "           3       0.95      0.83      0.88       173\n",
            "           4       0.94      0.88      0.91       182\n",
            "           5       0.91      0.90      0.90       153\n",
            "           6       0.94      0.98      0.96       168\n",
            "           7       0.86      0.96      0.91       186\n",
            "           8       0.75      0.84      0.79       153\n",
            "           9       0.79      0.83      0.81       174\n",
            "\n",
            "    accuracy                           0.89      1686\n",
            "   macro avg       0.89      0.88      0.89      1686\n",
            "weighted avg       0.89      0.89      0.89      1686\n",
            "\n",
            "Modelo KNN\n",
            "Acurácia: 0.9406880189798339\n",
            "Relatório:\n",
            "               precision    recall  f1-score   support\n",
            "\n",
            "           0       0.99      0.99      0.99       170\n",
            "           1       0.83      0.98      0.90       173\n",
            "           2       0.99      0.97      0.98       154\n",
            "           3       0.93      0.88      0.91       173\n",
            "           4       0.99      0.95      0.97       182\n",
            "           5       0.90      0.96      0.93       153\n",
            "           6       0.97      0.99      0.98       168\n",
            "           7       0.97      0.98      0.97       186\n",
            "           8       0.92      0.85      0.88       153\n",
            "           9       0.94      0.85      0.89       174\n",
            "\n",
            "    accuracy                           0.94      1686\n",
            "   macro avg       0.94      0.94      0.94      1686\n",
            "weighted avg       0.94      0.94      0.94      1686\n",
            "\n"
          ]
        },
        {
          "output_type": "display_data",
          "data": {
            "text/plain": [
              "<Figure size 1200x500 with 4 Axes>"
            ],
            "image/png": "[encoded data removed]"
          },
          "metadata": {}
        }
      ]
    },
    {
      "cell_type": "markdown",
      "source": [
        "Portanto, o modelo utilizando o algoritmo KNN se saiu melhor na classificação dos dígitos."
      ],
      "metadata": {
        "id": "8VSp9rExipvB"
      }
    },
    {
      "cell_type": "code",
      "source": [],
      "metadata": {
        "id": "Xw2nisRUhoGq"
      },
      "execution_count": null,
      "outputs": []
    }
  ]
}