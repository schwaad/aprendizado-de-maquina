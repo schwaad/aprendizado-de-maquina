{
  "cells": [
    {
      "cell_type": "markdown",
      "source": [
        "# Tarefa 3 - Árvores de Decisão\n",
        "\n",
        "## Aluno: José Ivo Schwade Araújo"
      ],
      "metadata": {
        "id": "NchZYUSOTHRR"
      }
    },
    {
      "cell_type": "markdown",
      "source": [
        "### 0. Preparando o ambiente do colab e baixando a base de dados"
      ],
      "metadata": {
        "id": "plm9ZgLJThqC"
      }
    },
    {
      "cell_type": "code",
      "source": [
        "# Importando as bibliotecas necessárias:\n",
        "!pip install mahotas gdown tqdm\n",
        "import mahotas\n",
        "import os\n",
        "import cv2\n",
        "import numpy as np\n",
        "from google.colab.patches import cv2_imshow\n",
        "from sklearn.tree import DecisionTreeClassifier\n",
        "from sklearn.metrics import classification_report\n",
        "from sklearn.model_selection import train_test_split\n",
        "import gdown\n",
        "from tqdm.auto import tqdm\n",
        "from sklearn.preprocessing import MinMaxScaler, StandardScaler\n",
        "from sklearn.neighbors import KNeighborsClassifier\n",
        "from sklearn.metrics import classification_report\n",
        "from sklearn.preprocessing import LabelEncoder\n",
        "from sklearn.metrics import confusion_matrix, ConfusionMatrixDisplay\n",
        "import pandas as pd\n",
        "import matplotlib.pyplot as plt\n",
        "from sklearn.metrics import accuracy_score\n",
        "import math\n"
      ],
      "metadata": {
        "id": "r-PjVXWLTlwz",
        "colab": {
          "base_uri": "https://localhost:8080/"
        },
        "outputId": "492c8b59-a229-4c21-9c31-bf5c5bf7de58"
      },
      "execution_count": 1,
      "outputs": [
        {
          "output_type": "stream",
          "name": "stdout",
          "text": [
            "Collecting mahotas\n",
            "  Downloading mahotas-1.4.18-cp311-cp311-manylinux_2_17_x86_64.manylinux2014_x86_64.whl.metadata (14 kB)\n",
            "Requirement already satisfied: gdown in /usr/local/lib/python3.11/dist-packages (5.2.0)\n",
            "Requirement already satisfied: tqdm in /usr/local/lib/python3.11/dist-packages (4.67.1)\n",
            "Requirement already satisfied: numpy in /usr/local/lib/python3.11/dist-packages (from mahotas) (2.0.2)\n",
            "Requirement already satisfied: beautifulsoup4 in /usr/local/lib/python3.11/dist-packages (from gdown) (4.13.4)\n",
            "Requirement already satisfied: filelock in /usr/local/lib/python3.11/dist-packages (from gdown) (3.18.0)\n",
            "Requirement already satisfied: requests[socks] in /usr/local/lib/python3.11/dist-packages (from gdown) (2.32.3)\n",
            "Requirement already satisfied: soupsieve>1.2 in /usr/local/lib/python3.11/dist-packages (from beautifulsoup4->gdown) (2.7)\n",
            "Requirement already satisfied: typing-extensions>=4.0.0 in /usr/local/lib/python3.11/dist-packages (from beautifulsoup4->gdown) (4.13.2)\n",
            "Requirement already satisfied: charset-normalizer<4,>=2 in /usr/local/lib/python3.11/dist-packages (from requests[socks]->gdown) (3.4.1)\n",
            "Requirement already satisfied: idna<4,>=2.5 in /usr/local/lib/python3.11/dist-packages (from requests[socks]->gdown) (3.10)\n",
            "Requirement already satisfied: urllib3<3,>=1.21.1 in /usr/local/lib/python3.11/dist-packages (from requests[socks]->gdown) (2.4.0)\n",
            "Requirement already satisfied: certifi>=2017.4.17 in /usr/local/lib/python3.11/dist-packages (from requests[socks]->gdown) (2025.1.31)\n",
            "Requirement already satisfied: PySocks!=1.5.7,>=1.5.6 in /usr/local/lib/python3.11/dist-packages (from requests[socks]->gdown) (1.7.1)\n",
            "Downloading mahotas-1.4.18-cp311-cp311-manylinux_2_17_x86_64.manylinux2014_x86_64.whl (5.8 MB)\n",
            "\u001b[2K   \u001b[90m━━━━━━━━━━━━━━━━━━━━━━━━━━━━━━━━━━━━━━━━\u001b[0m \u001b[32m5.8/5.8 MB\u001b[0m \u001b[31m23.3 MB/s\u001b[0m eta \u001b[36m0:00:00\u001b[0m\n",
            "\u001b[?25hInstalling collected packages: mahotas\n",
            "Successfully installed mahotas-1.4.18\n"
          ]
        }
      ]
    },
    {
      "cell_type": "code",
      "source": [
        "# função que extrai as características da imagem\n",
        "def describe(image):\n",
        "\t# extrai a média e desvio padrão de cada canal do espaço HSV.\n",
        "\t(means, stds) = cv2.meanStdDev(cv2.cvtColor(image, cv2.COLOR_BGR2HSV))\n",
        "\tcolorStats = np.concatenate([means, stds]).flatten()\n",
        "\t# converte a imagem para a escala de cinza\n",
        "\tgray = cv2.cvtColor(image, cv2.COLOR_BGR2GRAY)\n",
        "\t# extrai Haralick texture features\n",
        "\tharalick = mahotas.features.haralick(gray).mean(axis=0)\n",
        "\t# retorna um vetor formado por estatísticas básicas e das Haralick texture features\n",
        "\treturn np.hstack([colorStats, haralick])  # colorStats=(6,) haralick=(13,)"
      ],
      "metadata": {
        "id": "yXbYKCd-T5ep"
      },
      "execution_count": 2,
      "outputs": []
    },
    {
      "cell_type": "code",
      "source": [
        "url = 'https://drive.google.com/file/d/1bHHgeZ3H75oigySkcZG0S98unOJNft0b/view?usp=sharing'\n",
        "output = '4scenes.zip'\n",
        "gdown.download(url=url, output=output, quiet=False, fuzzy=True)\n",
        "\n",
        "# descompactando o conjunto de dados.\n",
        "# Se já descompactou antes, descomente a linha abaixo\n",
        "#!rm -rf '4scenes'\n",
        "!unzip -q '/content/4scenes.zip'"
      ],
      "metadata": {
        "colab": {
          "base_uri": "https://localhost:8080/"
        },
        "id": "YL2EJwolTxsr",
        "outputId": "77f0e046-5be2-422a-cca3-662f220a96da"
      },
      "execution_count": 3,
      "outputs": [
        {
          "output_type": "stream",
          "name": "stderr",
          "text": [
            "Downloading...\n",
            "From (original): https://drive.google.com/uc?id=1bHHgeZ3H75oigySkcZG0S98unOJNft0b\n",
            "From (redirected): https://drive.google.com/uc?id=1bHHgeZ3H75oigySkcZG0S98unOJNft0b&confirm=t&uuid=be7e01ea-611e-4a0f-a30c-733b71cbde02\n",
            "To: /content/4scenes.zip\n",
            "100%|██████████| 54.8M/54.8M [00:00<00:00, 67.5MB/s]\n"
          ]
        }
      ]
    },
    {
      "cell_type": "code",
      "source": [
        "# construindo a base de dados a partir das features extraídas do conjunto 4scenes\n",
        "\n",
        "imagesPath = './4scenes'\n",
        "labels = []\n",
        "data = []\n",
        "\n",
        "# lista todos os nomes de arquivos presentes no diretório especificado em imagesPath\n",
        "# o resultado (files) é uma lista de strings, onde cada string é o nome de um arquivo\n",
        "files = os.listdir(imagesPath)\n",
        "\n",
        "for image_name in tqdm(files, desc=\"[INFO] Processando imagens\"):\n",
        "  # extraindo o rótulo das imagens (primeira parte do nome do arquivo)\n",
        "  label = image_name.split(\"_\")[0]\n",
        "  # carregando a imagem\n",
        "  image = cv2.imread(imagesPath + '/' + image_name)\n",
        "  # extraindo as features da imagem\n",
        "  features = describe(image)\n",
        "  # adicionando o rótulo da imagem (classe) em uma lista de rótulos\n",
        "  labels.append(label)\n",
        "  # adicionando a imagem (features) ao conjunto de dados\n",
        "  data.append(features)\n"
      ],
      "metadata": {
        "colab": {
          "base_uri": "https://localhost:8080/",
          "height": 49,
          "referenced_widgets": [
            "58e879e508bf4294ad1d9753759a67b5",
            "c22a4b95f2be40008d6a10c3a8f1e1e8",
            "6175e4a5cf434cb1aaec5686b87a04e9",
            "41e4a6544eff48ce8c14f5c1f3e4d9ac",
            "3e962de0b9d143dbbfa63afcba03242b",
            "af9bcdca0e8242d4a4c3fef2e640ee22",
            "18a1fb587a8d4def8a4fab8288c931b8",
            "c26dd72b21c64277b8f505646c00d77b",
            "2e664720bd2849f8848655b23e386917",
            "1291499af8614f1ba0063a94999dab8f",
            "b8e9b3fd889541e28352d6469ecadcca"
          ]
        },
        "id": "vGN6L5f9T4a7",
        "outputId": "d1f0cfb0-108a-4e9f-af36-432382a62173"
      },
      "execution_count": 4,
      "outputs": [
        {
          "output_type": "display_data",
          "data": {
            "text/plain": [
              "[INFO] Processando imagens:   0%|          | 0/1240 [00:00<?, ?it/s]"
            ],
            "application/vnd.jupyter.widget-view+json": {
              "version_major": 2,
              "version_minor": 0,
              "model_id": "58e879e508bf4294ad1d9753759a67b5"
            }
          },
          "metadata": {}
        }
      ]
    },
    {
      "cell_type": "markdown",
      "source": [
        "### 1. Dividindo a base de dados em subconjuntos de treinamento, validação e teste."
      ],
      "metadata": {
        "id": "caqgqB2_TQL_"
      }
    },
    {
      "cell_type": "code",
      "source": [
        "(trainData, x, trainLabels, y) = train_test_split(np.array(data), np.array(labels), test_size=0.30, random_state=42)\n",
        "(testData, valData, testLabels, valLabels) = train_test_split(x, y, test_size=0.5, random_state=42)"
      ],
      "metadata": {
        "id": "b5Jh3TOtTJX-"
      },
      "execution_count": 5,
      "outputs": []
    },
    {
      "cell_type": "markdown",
      "source": [
        "### 2. Selecionar a melhor configuração de hiperparâmetros."
      ],
      "metadata": {
        "id": "2qPkz4V_Xgne"
      }
    },
    {
      "cell_type": "markdown",
      "source": [
        "Vamos, então, utilizar o conjunto de treino e o conjunto de validação para encontrar a melhor configuração possível para nossos algoritmos de KNN e de Árvore de Decisão."
      ],
      "metadata": {
        "id": "HNJe75ZGXmhu"
      }
    },
    {
      "cell_type": "markdown",
      "source": [
        "### KNN:"
      ],
      "metadata": {
        "id": "ntHICacIX2oZ"
      }
    },
    {
      "cell_type": "code",
      "source": [
        "# Codificando labels em números\n",
        "labelEncoder = LabelEncoder()\n",
        "trainLabels = labelEncoder.fit_transform(trainLabels)\n",
        "valLabels = labelEncoder.transform(valLabels)\n",
        "\n",
        "resultadosKNN = []\n",
        "\n",
        "scalers = {'StandardScaler': StandardScaler(), 'MinMaxScaler': MinMaxScaler()}\n",
        "distances = ['euclidean', 'cityblock', 'chebyshev']\n",
        "ks = range(1, int(math.sqrt(len(data))) + 1)\n",
        "# Normalizando utilizando cada Scaler\n",
        "for scaler_name, scaler in scalers.items():\n",
        "    X_train = scaler.fit_transform(trainData)\n",
        "    X_val = scaler.transform(valData)\n",
        "\n",
        "    K, D = np.meshgrid(ks, distances, indexing='ij')\n",
        "    for k, distance in zip(K.flatten(), D.flatten()):\n",
        "        distance = str(distance)\n",
        "        knn = KNeighborsClassifier(n_neighbors=k, metric=distance)\n",
        "        knn.fit(X_train, trainLabels)\n",
        "        Y_pred = knn.predict(X_val)\n",
        "        accuracy = accuracy_score(valLabels, Y_pred)\n",
        "        resultadosKNN.append({\n",
        "            'scaler': scaler_name,\n",
        "            'k': k,\n",
        "            'distance': distance,\n",
        "            'accuracy': accuracy\n",
        "        })\n",
        "\n",
        "df_resultadosKNN = pd.DataFrame(resultadosKNN)\n",
        "\n",
        "# Selecionando a melhor combinação de parâmetros:\n",
        "print(df_resultadosKNN.sort_values(by='accuracy', ascending=False).head(1))\n",
        "\n",
        "# Plotando o gráfico da melhor combinação de scaler e métrica para melhor visualização:\n",
        "scaler_name = df_resultadosKNN.sort_values(by='accuracy', ascending=False)['scaler'].iloc[0]\n",
        "distance = df_resultadosKNN.sort_values(by='accuracy', ascending=False)['distance'].iloc[0]\n",
        "subset = df_resultadosKNN[(df_resultadosKNN['scaler'] == scaler_name) & (df_resultadosKNN['distance'] == distance)]\n",
        "\n",
        "plt.figure(figsize=(8, 5))\n",
        "plt.plot(subset['k'], subset['accuracy'], marker='o')\n",
        "plt.xticks(np.arange(1, int(math.sqrt(len(data)))) + 1)\n",
        "plt.xlabel('Parâmetro k')\n",
        "plt.ylabel('Acurácia')\n",
        "plt.title(f'Acurácia vs. Parâmetro k\\nScaler: {scaler_name} | Distância: {distance}')\n",
        "plt.grid(True)\n",
        "plt.tight_layout()\n",
        "plt.show()\n",
        "\n",
        "# Decodificando as labels para uso posterior\n",
        "trainLabels = labelEncoder.inverse_transform(trainLabels)\n",
        "valLabels = labelEncoder.inverse_transform(valLabels)\n"
      ],
      "metadata": {
        "colab": {
          "base_uri": "https://localhost:8080/",
          "height": 542
        },
        "id": "3BpI-5qZXleS",
        "outputId": "248e1d83-e3ca-47cc-f309-e5ab2909a17a"
      },
      "execution_count": 6,
      "outputs": [
        {
          "output_type": "stream",
          "name": "stdout",
          "text": [
            "           scaler  k   distance  accuracy\n",
            "110  MinMaxScaler  2  chebyshev  0.817204\n"
          ]
        },
        {
          "output_type": "display_data",
          "data": {
            "text/plain": [
              "<Figure size 800x500 with 1 Axes>"
            ],
            "image/png": "[encoded data removed]"
          },
          "metadata": {}
        }
      ]
    },
    {
      "cell_type": "markdown",
      "source": [
        "Portanto, para o algoritmo KNN temos que os melhores hiperparâmetros são o scaler `Standard`, a métrica `cityblock` e o k = 4, com uma acurácia total de 0.897849."
      ],
      "metadata": {
        "id": "_qrymLlHMezy"
      }
    },
    {
      "cell_type": "markdown",
      "source": [
        "## Árvore de Decisão:"
      ],
      "metadata": {
        "id": "3bv7vtBH3ha2"
      }
    },
    {
      "cell_type": "code",
      "source": [
        "resultadosDecision = []\n",
        "\n",
        "for max_depth in range(1, 15):\n",
        "  model = DecisionTreeClassifier(random_state=84, max_depth=max_depth)\n",
        "  model.fit(trainData,trainLabels)\n",
        "  Y_pred = model.predict(valData)\n",
        "  accuracy = accuracy_score(valLabels, Y_pred)\n",
        "  resultadosDecision.append({\n",
        "      'max_depth' : max_depth,\n",
        "      'accuracy' : accuracy\n",
        "  })\n",
        "  df_resultadosDecision = pd.DataFrame(resultadosDecision)\n",
        "\n",
        "# Pegar o resultado com maior precisão\n",
        "print(df_resultadosDecision.sort_values(by='accuracy', ascending=False).head(1))\n",
        "\n",
        "#Plotando o gráfico max_depth vs accuracy\n",
        "plt.figure(figsize=(8, 5))\n",
        "plt.plot(df_resultadosDecision['max_depth'], df_resultadosDecision['accuracy'], marker='o')\n",
        "plt.xticks(np.arange(1, 15))\n",
        "plt.xlabel('Max Depth')\n",
        "plt.title('Acurácia vs. Max Depth')\n",
        "plt.grid(True)\n",
        "plt.tight_layout()\n",
        "plt.show()"
      ],
      "metadata": {
        "id": "0yDfsCMFHxkE",
        "colab": {
          "base_uri": "https://localhost:8080/",
          "height": 542
        },
        "outputId": "0e7a59e6-43f3-47f9-eb40-620f62e21be4"
      },
      "execution_count": 28,
      "outputs": [
        {
          "output_type": "stream",
          "name": "stdout",
          "text": [
            "   max_depth  accuracy\n",
            "5          6  0.795699\n"
          ]
        },
        {
          "output_type": "display_data",
          "data": {
            "text/plain": [
              "<Figure size 800x500 with 1 Axes>"
            ],
            "image/png": "[encoded data removed]"
          },
          "metadata": {}
        }
      ]
    },
    {
      "cell_type": "markdown",
      "source": [
        "Portanto, para o modelo com o algoritmo de Árvore de decisão temos que o melhor valor para o hiperparâmetro `max_depth` é 6, com uma acurácia total de 0.795699"
      ],
      "metadata": {
        "id": "63BnxCI-vihf"
      }
    },
    {
      "cell_type": "markdown",
      "source": [
        "## 4. Treinando os modelos com a combinação dos conjuntos de treinamento e validação"
      ],
      "metadata": {
        "id": "waDGP6eyv40m"
      }
    },
    {
      "cell_type": "code",
      "source": [],
      "metadata": {
        "id": "38AHmPspuX_X"
      },
      "execution_count": null,
      "outputs": []
    }
  ],
  "metadata": {
    "colab": {
      "provenance": []
    },
    "kernelspec": {
      "display_name": "Python 3",
      "name": "python3"
    },
    "language_info": {
      "codemirror_mode": {
        "name": "ipython",
        "version": 3
      },
      "file_extension": ".py",
      "mimetype": "text/x-python",
      "name": "python",
      "nbconvert_exporter": "python",
      "pygments_lexer": "ipython3",
      "version": "3.12.9"
    },
    "widgets": {
      "application/vnd.jupyter.widget-state+json": {
        "58e879e508bf4294ad1d9753759a67b5": {
          "model_module": "@jupyter-widgets/controls",
          "model_name": "HBoxModel",
          "model_module_version": "1.5.0",
          "state": {
            "_dom_classes": [],
            "_model_module": "@jupyter-widgets/controls",
            "_model_module_version": "1.5.0",
            "_model_name": "HBoxModel",
            "_view_count": null,
            "_view_module": "@jupyter-widgets/controls",
            "_view_module_version": "1.5.0",
            "_view_name": "HBoxView",
            "box_style": "",
            "children": [
              "IPY_MODEL_c22a4b95f2be40008d6a10c3a8f1e1e8",
              "IPY_MODEL_6175e4a5cf434cb1aaec5686b87a04e9",
              "IPY_MODEL_41e4a6544eff48ce8c14f5c1f3e4d9ac"
            ],
            "layout": "IPY_MODEL_3e962de0b9d143dbbfa63afcba03242b"
          }
        },
        "c22a4b95f2be40008d6a10c3a8f1e1e8": {
          "model_module": "@jupyter-widgets/controls",
          "model_name": "HTMLModel",
          "model_module_version": "1.5.0",
          "state": {
            "_dom_classes": [],
            "_model_module": "@jupyter-widgets/controls",
            "_model_module_version": "1.5.0",
            "_model_name": "HTMLModel",
            "_view_count": null,
            "_view_module": "@jupyter-widgets/controls",
            "_view_module_version": "1.5.0",
            "_view_name": "HTMLView",
            "description": "",
            "description_tooltip": null,
            "layout": "IPY_MODEL_af9bcdca0e8242d4a4c3fef2e640ee22",
            "placeholder": "​",
            "style": "IPY_MODEL_18a1fb587a8d4def8a4fab8288c931b8",
            "value": "[INFO] Processando imagens: 100%"
          }
        },
        "6175e4a5cf434cb1aaec5686b87a04e9": {
          "model_module": "@jupyter-widgets/controls",
          "model_name": "FloatProgressModel",
          "model_module_version": "1.5.0",
          "state": {
            "_dom_classes": [],
            "_model_module": "@jupyter-widgets/controls",
            "_model_module_version": "1.5.0",
            "_model_name": "FloatProgressModel",
            "_view_count": null,
            "_view_module": "@jupyter-widgets/controls",
            "_view_module_version": "1.5.0",
            "_view_name": "ProgressView",
            "bar_style": "success",
            "description": "",
            "description_tooltip": null,
            "layout": "IPY_MODEL_c26dd72b21c64277b8f505646c00d77b",
            "max": 1240,
            "min": 0,
            "orientation": "horizontal",
            "style": "IPY_MODEL_2e664720bd2849f8848655b23e386917",
            "value": 1240
          }
        },
        "41e4a6544eff48ce8c14f5c1f3e4d9ac": {
          "model_module": "@jupyter-widgets/controls",
          "model_name": "HTMLModel",
          "model_module_version": "1.5.0",
          "state": {
            "_dom_classes": [],
            "_model_module": "@jupyter-widgets/controls",
            "_model_module_version": "1.5.0",
            "_model_name": "HTMLModel",
            "_view_count": null,
            "_view_module": "@jupyter-widgets/controls",
            "_view_module_version": "1.5.0",
            "_view_name": "HTMLView",
            "description": "",
            "description_tooltip": null,
            "layout": "IPY_MODEL_1291499af8614f1ba0063a94999dab8f",
            "placeholder": "​",
            "style": "IPY_MODEL_b8e9b3fd889541e28352d6469ecadcca",
            "value": " 1240/1240 [01:10&lt;00:00, 28.20it/s]"
          }
        },
        "3e962de0b9d143dbbfa63afcba03242b": {
          "model_module": "@jupyter-widgets/base",
          "model_name": "LayoutModel",
          "model_module_version": "1.2.0",
          "state": {
            "_model_module": "@jupyter-widgets/base",
            "_model_module_version": "1.2.0",
            "_model_name": "LayoutModel",
            "_view_count": null,
            "_view_module": "@jupyter-widgets/base",
            "_view_module_version": "1.2.0",
            "_view_name": "LayoutView",
            "align_content": null,
            "align_items": null,
            "align_self": null,
            "border": null,
            "bottom": null,
            "display": null,
            "flex": null,
            "flex_flow": null,
            "grid_area": null,
            "grid_auto_columns": null,
            "grid_auto_flow": null,
            "grid_auto_rows": null,
            "grid_column": null,
            "grid_gap": null,
            "grid_row": null,
            "grid_template_areas": null,
            "grid_template_columns": null,
            "grid_template_rows": null,
            "height": null,
            "justify_content": null,
            "justify_items": null,
            "left": null,
            "margin": null,
            "max_height": null,
            "max_width": null,
            "min_height": null,
            "min_width": null,
            "object_fit": null,
            "object_position": null,
            "order": null,
            "overflow": null,
            "overflow_x": null,
            "overflow_y": null,
            "padding": null,
            "right": null,
            "top": null,
            "visibility": null,
            "width": null
          }
        },
        "af9bcdca0e8242d4a4c3fef2e640ee22": {
          "model_module": "@jupyter-widgets/base",
          "model_name": "LayoutModel",
          "model_module_version": "1.2.0",
          "state": {
            "_model_module": "@jupyter-widgets/base",
            "_model_module_version": "1.2.0",
            "_model_name": "LayoutModel",
            "_view_count": null,
            "_view_module": "@jupyter-widgets/base",
            "_view_module_version": "1.2.0",
            "_view_name": "LayoutView",
            "align_content": null,
            "align_items": null,
            "align_self": null,
            "border": null,
            "bottom": null,
            "display": null,
            "flex": null,
            "flex_flow": null,
            "grid_area": null,
            "grid_auto_columns": null,
            "grid_auto_flow": null,
            "grid_auto_rows": null,
            "grid_column": null,
            "grid_gap": null,
            "grid_row": null,
            "grid_template_areas": null,
            "grid_template_columns": null,
            "grid_template_rows": null,
            "height": null,
            "justify_content": null,
            "justify_items": null,
            "left": null,
            "margin": null,
            "max_height": null,
            "max_width": null,
            "min_height": null,
            "min_width": null,
            "object_fit": null,
            "object_position": null,
            "order": null,
            "overflow": null,
            "overflow_x": null,
            "overflow_y": null,
            "padding": null,
            "right": null,
            "top": null,
            "visibility": null,
            "width": null
          }
        },
        "18a1fb587a8d4def8a4fab8288c931b8": {
          "model_module": "@jupyter-widgets/controls",
          "model_name": "DescriptionStyleModel",
          "model_module_version": "1.5.0",
          "state": {
            "_model_module": "@jupyter-widgets/controls",
            "_model_module_version": "1.5.0",
            "_model_name": "DescriptionStyleModel",
            "_view_count": null,
            "_view_module": "@jupyter-widgets/base",
            "_view_module_version": "1.2.0",
            "_view_name": "StyleView",
            "description_width": ""
          }
        },
        "c26dd72b21c64277b8f505646c00d77b": {
          "model_module": "@jupyter-widgets/base",
          "model_name": "LayoutModel",
          "model_module_version": "1.2.0",
          "state": {
            "_model_module": "@jupyter-widgets/base",
            "_model_module_version": "1.2.0",
            "_model_name": "LayoutModel",
            "_view_count": null,
            "_view_module": "@jupyter-widgets/base",
            "_view_module_version": "1.2.0",
            "_view_name": "LayoutView",
            "align_content": null,
            "align_items": null,
            "align_self": null,
            "border": null,
            "bottom": null,
            "display": null,
            "flex": null,
            "flex_flow": null,
            "grid_area": null,
            "grid_auto_columns": null,
            "grid_auto_flow": null,
            "grid_auto_rows": null,
            "grid_column": null,
            "grid_gap": null,
            "grid_row": null,
            "grid_template_areas": null,
            "grid_template_columns": null,
            "grid_template_rows": null,
            "height": null,
            "justify_content": null,
            "justify_items": null,
            "left": null,
            "margin": null,
            "max_height": null,
            "max_width": null,
            "min_height": null,
            "min_width": null,
            "object_fit": null,
            "object_position": null,
            "order": null,
            "overflow": null,
            "overflow_x": null,
            "overflow_y": null,
            "padding": null,
            "right": null,
            "top": null,
            "visibility": null,
            "width": null
          }
        },
        "2e664720bd2849f8848655b23e386917": {
          "model_module": "@jupyter-widgets/controls",
          "model_name": "ProgressStyleModel",
          "model_module_version": "1.5.0",
          "state": {
            "_model_module": "@jupyter-widgets/controls",
            "_model_module_version": "1.5.0",
            "_model_name": "ProgressStyleModel",
            "_view_count": null,
            "_view_module": "@jupyter-widgets/base",
            "_view_module_version": "1.2.0",
            "_view_name": "StyleView",
            "bar_color": null,
            "description_width": ""
          }
        },
        "1291499af8614f1ba0063a94999dab8f": {
          "model_module": "@jupyter-widgets/base",
          "model_name": "LayoutModel",
          "model_module_version": "1.2.0",
          "state": {
            "_model_module": "@jupyter-widgets/base",
            "_model_module_version": "1.2.0",
            "_model_name": "LayoutModel",
            "_view_count": null,
            "_view_module": "@jupyter-widgets/base",
            "_view_module_version": "1.2.0",
            "_view_name": "LayoutView",
            "align_content": null,
            "align_items": null,
            "align_self": null,
            "border": null,
            "bottom": null,
            "display": null,
            "flex": null,
            "flex_flow": null,
            "grid_area": null,
            "grid_auto_columns": null,
            "grid_auto_flow": null,
            "grid_auto_rows": null,
            "grid_column": null,
            "grid_gap": null,
            "grid_row": null,
            "grid_template_areas": null,
            "grid_template_columns": null,
            "grid_template_rows": null,
            "height": null,
            "justify_content": null,
            "justify_items": null,
            "left": null,
            "margin": null,
            "max_height": null,
            "max_width": null,
            "min_height": null,
            "min_width": null,
            "object_fit": null,
            "object_position": null,
            "order": null,
            "overflow": null,
            "overflow_x": null,
            "overflow_y": null,
            "padding": null,
            "right": null,
            "top": null,
            "visibility": null,
            "width": null
          }
        },
        "b8e9b3fd889541e28352d6469ecadcca": {
          "model_module": "@jupyter-widgets/controls",
          "model_name": "DescriptionStyleModel",
          "model_module_version": "1.5.0",
          "state": {
            "_model_module": "@jupyter-widgets/controls",
            "_model_module_version": "1.5.0",
            "_model_name": "DescriptionStyleModel",
            "_view_count": null,
            "_view_module": "@jupyter-widgets/base",
            "_view_module_version": "1.2.0",
            "_view_name": "StyleView",
            "description_width": ""
          }
        }
      }
    }
  },
  "nbformat": 4,
  "nbformat_minor": 0
}